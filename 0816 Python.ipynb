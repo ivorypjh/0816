{
 "cells": [
  {
   "cell_type": "code",
   "execution_count": 1,
   "id": "39dc2546",
   "metadata": {},
   "outputs": [
    {
     "name": "stdout",
     "output_type": "stream",
     "text": [
      "C:\\Users\\USER\\lg dx python\n"
     ]
    }
   ],
   "source": [
    "import numpy as np\n",
    "import pandas as pd\n",
    "import os\n",
    "print(os.getcwd())\n",
    "import seaborn as sns # 데이터셋을 가져오기 위해 import"
   ]
  },
  {
   "cell_type": "code",
   "execution_count": 4,
   "id": "7bd08dee",
   "metadata": {},
   "outputs": [],
   "source": [
    "#help(pd.DataFrame.groupby)"
   ]
  },
  {
   "cell_type": "code",
   "execution_count": 9,
   "id": "3d6d4f51",
   "metadata": {},
   "outputs": [
    {
     "name": "stdout",
     "output_type": "stream",
     "text": [
      "<class 'pandas.core.frame.DataFrame'>\n",
      "RangeIndex: 891 entries, 0 to 890\n",
      "Data columns (total 15 columns):\n",
      " #   Column       Non-Null Count  Dtype   \n",
      "---  ------       --------------  -----   \n",
      " 0   survived     891 non-null    int64   \n",
      " 1   pclass       891 non-null    int64   \n",
      " 2   sex          891 non-null    object  \n",
      " 3   age          714 non-null    float64 \n",
      " 4   sibsp        891 non-null    int64   \n",
      " 5   parch        891 non-null    int64   \n",
      " 6   fare         891 non-null    float64 \n",
      " 7   embarked     889 non-null    object  \n",
      " 8   class        891 non-null    category\n",
      " 9   who          891 non-null    object  \n",
      " 10  adult_male   891 non-null    bool    \n",
      " 11  deck         203 non-null    category\n",
      " 12  embark_town  889 non-null    object  \n",
      " 13  alive        891 non-null    object  \n",
      " 14  alone        891 non-null    bool    \n",
      "dtypes: bool(2), category(2), float64(2), int64(4), object(5)\n",
      "memory usage: 80.7+ KB\n"
     ]
    }
   ],
   "source": [
    "titan = sns.load_dataset('titanic')\n",
    "titan.info() # null 의 수, dtype 파악\n",
    "# 데이터에 등장하는 object(dtype) 는 대부분 문자열\n",
    "# help, info 함수는 자동으로 출력을 하므로 print 함수를 별도로 사용할 필요 없음"
   ]
  },
  {
   "cell_type": "code",
   "execution_count": 11,
   "id": "9b3f5280",
   "metadata": {},
   "outputs": [
    {
     "name": "stdout",
     "output_type": "stream",
     "text": [
      "    age     sex  class     fare  survived\n",
      "0  22.0    male  Third   7.2500         0\n",
      "1  38.0  female  First  71.2833         1\n",
      "2  26.0  female  Third   7.9250         1\n",
      "3  35.0  female  First  53.1000         1\n",
      "4  35.0    male  Third   8.0500         0\n"
     ]
    }
   ],
   "source": [
    "# 필요한 column 만 골라내기\n",
    "mask = titan[['age', 'sex', 'class', 'fare', 'survived']]\n",
    "print(mask.head()) # 데이터 필터링 확인"
   ]
  },
  {
   "cell_type": "code",
   "execution_count": 18,
   "id": "06f386aa",
   "metadata": {},
   "outputs": [
    {
     "name": "stdout",
     "output_type": "stream",
     "text": [
      "<pandas.core.groupby.generic.DataFrameGroupBy object at 0x0000018A615DB130>\n"
     ]
    }
   ],
   "source": [
    "groupedByClass = mask.groupby(['class'])\n",
    "print(groupedByAge) # object 가 출력됨"
   ]
  },
  {
   "cell_type": "code",
   "execution_count": 22,
   "id": "6b19a794",
   "metadata": {},
   "outputs": [
    {
     "name": "stdout",
     "output_type": "stream",
     "text": [
      "First      age     sex  class     fare  survived\n",
      "1   38.0  female  First  71.2833         1\n",
      "3   35.0  female  First  53.1000         1\n",
      "6   54.0    male  First  51.8625         0\n",
      "11  58.0  female  First  26.5500         1\n",
      "23  28.0    male  First  35.5000         1\n",
      "Second      age     sex   class     fare  survived\n",
      "9   14.0  female  Second  30.0708         1\n",
      "15  55.0  female  Second  16.0000         1\n",
      "17   NaN    male  Second  13.0000         1\n",
      "20  35.0    male  Second  26.0000         0\n",
      "21  34.0    male  Second  13.0000         1\n",
      "Third     age     sex  class     fare  survived\n",
      "0  22.0    male  Third   7.2500         0\n",
      "2  26.0  female  Third   7.9250         1\n",
      "4  35.0    male  Third   8.0500         0\n",
      "5   NaN    male  Third   8.4583         0\n",
      "7   2.0    male  Third  21.0750         0\n"
     ]
    },
    {
     "name": "stderr",
     "output_type": "stream",
     "text": [
      "C:\\Users\\USER\\AppData\\Local\\Temp\\ipykernel_6000\\2224815610.py:1: FutureWarning: In a future version of pandas, a length 1 tuple will be returned when iterating over a groupby with a grouper equal to a list of length 1. Don't supply a list with a single grouper to avoid this warning.\n",
      "  for key, group in groupedByClass:\n"
     ]
    }
   ],
   "source": [
    "# key 에는 그룹화된 컬럼의 값이 전달되고 group 에는 그룹화된 데이터가 전달됨\n",
    "for key, group in groupedByClass:\n",
    "    print(key, group.head())"
   ]
  },
  {
   "cell_type": "code",
   "execution_count": 25,
   "id": "f16ece35",
   "metadata": {},
   "outputs": [
    {
     "name": "stdout",
     "output_type": "stream",
     "text": [
      "              age       fare  survived\n",
      "class                                 \n",
      "First   38.233441  84.154687  0.629630\n",
      "Second  29.877630  20.662183  0.472826\n",
      "Third   25.140620  13.675550  0.242363\n"
     ]
    },
    {
     "name": "stderr",
     "output_type": "stream",
     "text": [
      "C:\\Users\\USER\\AppData\\Local\\Temp\\ipykernel_6000\\2357229482.py:2: FutureWarning: The default value of numeric_only in DataFrameGroupBy.mean is deprecated. In a future version, numeric_only will default to False. Either specify numeric_only or select only columns which should be valid for the function.\n",
      "  print(groupedByClass.mean())\n"
     ]
    }
   ],
   "source": [
    "# 그룹 별 집계가 가능함\n",
    "# 평균을 나타내는 함수는 mean(average 가 아님)\n",
    "print(groupedByClass.mean()) # age, fare, surived 의 평균을 나타냄"
   ]
  },
  {
   "cell_type": "code",
   "execution_count": 27,
   "id": "22ead88e",
   "metadata": {},
   "outputs": [
    {
     "name": "stdout",
     "output_type": "stream",
     "text": [
      "     age     sex  class     fare  survived\n",
      "1   38.0  female  First  71.2833         1\n",
      "3   35.0  female  First  53.1000         1\n",
      "6   54.0    male  First  51.8625         0\n",
      "11  58.0  female  First  26.5500         1\n",
      "23  28.0    male  First  35.5000         1\n",
      "    age     sex  class     fare  survived\n",
      "0  22.0    male  Third   7.2500         0\n",
      "2  26.0  female  Third   7.9250         1\n",
      "4  35.0    male  Third   8.0500         0\n",
      "5   NaN    male  Third   8.4583         0\n",
      "7   2.0    male  Third  21.0750         0\n"
     ]
    }
   ],
   "source": [
    "# 개별 그룹 가져오기 - get_group 함수 사용\n",
    "group1 = groupedByClass.get_group('First')\n",
    "group3 = groupedByClass.get_group('Third')\n",
    "print(group1.head())\n",
    "print(group3.head())"
   ]
  },
  {
   "cell_type": "code",
   "execution_count": 28,
   "id": "f329ff38",
   "metadata": {},
   "outputs": [
    {
     "name": "stdout",
     "output_type": "stream",
     "text": [
      "('First', 'female', 0)\n",
      "('First', 'female', 1)\n",
      "('First', 'male', 0)\n",
      "('First', 'male', 1)\n",
      "('Second', 'female', 0)\n",
      "('Second', 'female', 1)\n",
      "('Second', 'male', 0)\n",
      "('Second', 'male', 1)\n",
      "('Third', 'female', 0)\n",
      "('Third', 'female', 1)\n",
      "('Third', 'male', 0)\n",
      "('Third', 'male', 1)\n"
     ]
    }
   ],
   "source": [
    "# 여러 개의 컬럼을 합쳐서 그룹화하기\n",
    "groupedTogether = mask.groupby(['class', 'sex', 'survived'])\n",
    "for key, group in groupedTogether:\n",
    "    print(key)"
   ]
  },
  {
   "cell_type": "code",
   "execution_count": 31,
   "id": "5f28fc21",
   "metadata": {},
   "outputs": [
    {
     "name": "stdout",
     "output_type": "stream",
     "text": [
      "<class 'pandas.core.frame.DataFrame'>\n"
     ]
    }
   ],
   "source": [
    "print(type(mask[['class']]))"
   ]
  },
  {
   "cell_type": "code",
   "execution_count": 34,
   "id": "c8ba4d73",
   "metadata": {},
   "outputs": [
    {
     "name": "stdout",
     "output_type": "stream",
     "text": [
      "              age       fare  survived\n",
      "class                                 \n",
      "First   14.802856  78.380373  0.484026\n",
      "Second  14.001077  13.417399  0.500623\n",
      "Third   12.495398  11.778142  0.428949\n",
      "class\n",
      "First     14.802856\n",
      "Second    14.001077\n",
      "Third     12.495398\n",
      "Name: age, dtype: float64\n",
      "class\n",
      "First     14.802856\n",
      "Second    14.001077\n",
      "Third     12.495398\n",
      "Name: age, dtype: float64\n"
     ]
    },
    {
     "name": "stderr",
     "output_type": "stream",
     "text": [
      "C:\\Users\\USER\\AppData\\Local\\Temp\\ipykernel_6000\\1779799865.py:2: FutureWarning: The default value of numeric_only in DataFrameGroupBy.std is deprecated. In a future version, numeric_only will default to False. Either specify numeric_only or select only columns which should be valid for the function.\n",
      "  print(groupedByClass.std())\n"
     ]
    }
   ],
   "source": [
    "# 집계 함수 사용\n",
    "print(groupedByClass.std()) # 표준편차를 구함\n",
    "# DataFrame 으로 리턴\n",
    "\n",
    "# 특정 컬럼에 대해서만 집계 적용\n",
    "# 컬럼이 1개이기 때문에 Series 로 리턴\n",
    "print(groupedByClass['age'].std())\n",
    "print(groupedByClass.age.std()) # . 을 이용해서 컬럼에 접근하는 경우 컬럼 이름은 반드시 문자열이어야 함\n",
    "# 결과는 둘 다 동일"
   ]
  },
  {
   "cell_type": "code",
   "execution_count": 35,
   "id": "bc02c7b5",
   "metadata": {},
   "outputs": [
    {
     "name": "stdout",
     "output_type": "stream",
     "text": [
      "         age     sex  fare  survived\n",
      "class                               \n",
      "First   0.92  female   0.0         0\n",
      "Second  0.67  female   0.0         0\n",
      "Third   0.42  female   0.0         0\n"
     ]
    }
   ],
   "source": [
    "# 사용자 정의 함수 적용하기\n",
    "\n",
    "# 사용자 정의 함수\n",
    "# 그룹에 agg 를 이용해서 적용하면 매개변수로 각 그룹이 대입되는 구조\n",
    "def func(group):\n",
    "    return group.min()\n",
    "\n",
    "# 그룹화 된 데이터에 agg 를 통해 함수를 적용\n",
    "agg_func = groupedByClass.agg(func)\n",
    "print(agg_func)"
   ]
  },
  {
   "cell_type": "code",
   "execution_count": 36,
   "id": "fdc1cdf3",
   "metadata": {},
   "outputs": [
    {
     "name": "stdout",
     "output_type": "stream",
     "text": [
      "         age         sex              fare      survived    \n",
      "         max   min   max     min       max  min      max min\n",
      "class                                                       \n",
      "First   80.0  0.92  male  female  512.3292  0.0        1   0\n",
      "Second  70.0  0.67  male  female   73.5000  0.0        1   0\n",
      "Third   74.0  0.42  male  female   69.5500  0.0        1   0\n"
     ]
    }
   ],
   "source": [
    "# 여러 개의 함수 적용하기 - list 형태 사용\n",
    "\n",
    "agg_two = groupedByClass.agg([max, min]) # max, min 집계 함수 적용\n",
    "print(agg_two)"
   ]
  },
  {
   "cell_type": "code",
   "execution_count": 38,
   "id": "60e90d07",
   "metadata": {},
   "outputs": [
    {
     "name": "stdout",
     "output_type": "stream",
     "text": [
      "            fare     sex\n",
      "class                   \n",
      "First   512.3292  female\n",
      "Second   73.5000  female\n",
      "Third    69.5500  female\n"
     ]
    }
   ],
   "source": [
    "# 컬럼마다 다른 함수 적용\n",
    "agg_three = groupedByClass.agg({'fare' : max, 'sex' : min})\n",
    "print(agg_three)"
   ]
  },
  {
   "cell_type": "code",
   "execution_count": 46,
   "id": "08a818a7",
   "metadata": {},
   "outputs": [
    {
     "name": "stdout",
     "output_type": "stream",
     "text": [
      "0    21.58\n",
      "1    37.08\n",
      "2    25.58\n",
      "3    34.08\n",
      "4    34.58\n",
      "Name: age, dtype: float64\n",
      "    age     sex  class     fare  survived\n",
      "0  22.0    male  Third   7.2500         0\n",
      "2  26.0  female  Third   7.9250         1\n",
      "4  35.0    male  Third   8.0500         0\n",
      "5   NaN    male  Third   8.4583         0\n",
      "7   2.0    male  Third  21.0750         0\n"
     ]
    }
   ],
   "source": [
    "# 셀 단위로 함수 적용 - transform 이나 apply 를 사용해야 함\n",
    "# 그룹 별로 구하는게 아니라 데이터 별로 구하는 score\n",
    "def z_score(data):\n",
    "    return(data - data.min())\n",
    "\n",
    "age_zscore = groupedByClass.age.transform(z_score)\n",
    "print(age_zscore.head())\n",
    "\n",
    "# SQL 의 Having 구문을 만들고자 할 때는 filter 함수를 사용\n",
    "# Having 은 Group By 이후의 조건으로 그룹화 한 항목에 대해 필터링\n",
    "# 그룹화 한 항목의 필터링은 그룹의 집계함수를 이용해서 필터링을 수행\n",
    "group_filter = groupedByClass.filter(lambda x : len(x) > 300) # 데이터의 갯수가 300개가 넘는 그룹만 필터링\n",
    "print(group_filter.head())"
   ]
  },
  {
   "cell_type": "code",
   "execution_count": 55,
   "id": "d5f3dcc5",
   "metadata": {},
   "outputs": [
    {
     "name": "stdout",
     "output_type": "stream",
     "text": [
      "age          2.0000\n",
      "fare        25.9292\n",
      "survived     0.0000\n",
      "Name: (First, female), dtype: float64\n"
     ]
    }
   ],
   "source": [
    "# 2개의 컬럼으로 그룹화 - 멀티 인덱스 생성\n",
    "grouped = mask.groupby(['class', 'sex'])\n",
    "\n",
    "# First class 이고 set 가 female 인 데이터만 가져오기\n",
    "# DataFrame 에 바로 loc 를 적용할 수 없음\n",
    "gdf = grouped.min() # 멀티 인덱스에서 최소값만\n",
    "print(gdf.loc['First', 'female']) # loc 를 사용해서 원하는 데이터만\n",
    "#print(gdf.xs('female', level = 'sex'))"
   ]
  },
  {
   "cell_type": "code",
   "execution_count": 60,
   "id": "628e285d",
   "metadata": {},
   "outputs": [
    {
     "name": "stdout",
     "output_type": "stream",
     "text": [
      "              age                        survived                    \n",
      "class       First     Second      Third     First    Second     Third\n",
      "sex                                                                  \n",
      "female  34.611765  28.722973  21.750000  0.968085  0.921053  0.500000\n",
      "male    41.281386  30.740707  26.507589  0.368852  0.157407  0.135447\n"
     ]
    }
   ],
   "source": [
    "# class 와 sex 별로 age, survived 의 평균 구하기\n",
    "\n",
    "# list 를 사용해서 적용할 대상을 여럿 지정할 수 있음 - values, aggfunc, columns 등\n",
    "print(pd.pivot_table(mask, index = 'sex', columns = 'class', values = ['age', 'survived'], aggfunc = 'mean'))\n",
    "#print(pd.pivot_table(mask, index = 'sex', columns = 'class', values = 'age', aggfunc = 'mean'))\n",
    "#print(pd.pivot_table(mask, index = 'sex', columns = 'class', values = 'survived', aggfunc = 'mean'))"
   ]
  },
  {
   "cell_type": "code",
   "execution_count": null,
   "id": "15e3bc5c",
   "metadata": {},
   "outputs": [],
   "source": []
  },
  {
   "cell_type": "markdown",
   "id": "5d32c49e",
   "metadata": {},
   "source": [
    "## 서울시 구 별 인구수와 CCTV 갯수 탐색"
   ]
  },
  {
   "cell_type": "markdown",
   "id": "2b1b02e3",
   "metadata": {},
   "source": [
    "### 필요한 라이브러리 import"
   ]
  },
  {
   "cell_type": "code",
   "execution_count": 2,
   "id": "cf76f19f",
   "metadata": {},
   "outputs": [],
   "source": [
    "# 시각화를 위한 패키지\n",
    "import matplotlib.pyplot as plt\n",
    "\n",
    "# 시각화를 할 때 한글 출력을 위한 import\n",
    "import platform\n",
    "from matplotlib import font_manager, rc"
   ]
  },
  {
   "cell_type": "markdown",
   "id": "56f78d47",
   "metadata": {},
   "source": [
    "### 데이터 읽어오기"
   ]
  },
  {
   "cell_type": "code",
   "execution_count": 4,
   "id": "bc5bffe6",
   "metadata": {},
   "outputs": [
    {
     "name": "stdout",
     "output_type": "stream",
     "text": [
      "<class 'pandas.core.frame.DataFrame'>\n",
      "RangeIndex: 25 entries, 0 to 24\n",
      "Data columns (total 10 columns):\n",
      " #   Column    Non-Null Count  Dtype  \n",
      "---  ------    --------------  -----  \n",
      " 0   기관명       25 non-null     object \n",
      " 1   소계        25 non-null     int64  \n",
      " 2   2011년 이전  23 non-null     float64\n",
      " 3   2012년     23 non-null     float64\n",
      " 4   2013년     23 non-null     float64\n",
      " 5   2014년     25 non-null     int64  \n",
      " 6   2015년     25 non-null     int64  \n",
      " 7   2016년     25 non-null     int64  \n",
      " 8   2017년     25 non-null     int64  \n",
      " 9   2018년     25 non-null     int64  \n",
      "dtypes: float64(3), int64(6), object(1)\n",
      "memory usage: 2.1+ KB\n"
     ]
    }
   ],
   "source": [
    "cctv = pd.read_excel('./data/cctv.xlsx')\n",
    "\n",
    "# 데이터 확인\n",
    "#print(cctv.head())\n",
    "#cctv.info()"
   ]
  },
  {
   "cell_type": "code",
   "execution_count": 24,
   "id": "768da987",
   "metadata": {},
   "outputs": [
    {
     "name": "stdout",
     "output_type": "stream",
     "text": [
      "         기간  자치구       세대        계       남자       여자      계.1     남자.1  \\\n",
      "0  2021.2/4   합계  4405638  9795426  4756178  5039248  9565990  4649442   \n",
      "1  2021.2/4  종로구    73525   155106    75009    80097   146029    70985   \n",
      "2  2021.2/4   중구    62897   132259    64526    67733   123016    60019   \n",
      "3  2021.2/4  용산구   111650   240665   116858   123807   226378   108948   \n",
      "4  2021.2/4  성동구   134542   295767   143927   151840   289162   141042   \n",
      "\n",
      "      여자.1     계.2    남자.2    여자.2  세대당인구  65세이상고령자  \n",
      "0  4916548  229436  106736  122700   2.17   1576971  \n",
      "1    75044    9077    4024    5053   1.99     27605  \n",
      "2    62997    9243    4507    4736   1.96     23980  \n",
      "3   117430   14287    7910    6377   2.03     38884  \n",
      "4   148120    6605    2885    3720   2.15     45591  \n"
     ]
    }
   ],
   "source": [
    "# pop.txt 파일을 확인해보면 처음 2개의 행은 의미가 없음\n",
    "# 한글 데이터를 포함 중\n",
    "# 구분 기호는 탭\n",
    "# 숫자에 천 단위 구분기호 사용중\n",
    "\n",
    "\n",
    "pop = pd.read_csv('./data/pop.txt', skiprows = 2, delimiter = '\\t', thousands = ',')\n",
    "print(pop.head()) # 중복으로 사용되는 남자, 여자, 계 컬럼 뒤에 자동으로 숫자가 붙음\n",
    "#pop.info()"
   ]
  },
  {
   "cell_type": "markdown",
   "id": "82ef5e5f",
   "metadata": {},
   "source": [
    "### 컬럼의 이름 수정"
   ]
  },
  {
   "cell_type": "code",
   "execution_count": 25,
   "id": "29a677a6",
   "metadata": {},
   "outputs": [
    {
     "name": "stdout",
     "output_type": "stream",
     "text": [
      "    구별    소계  2011년 이전  2012년  2013년  2014년  2015년  2016년  2017년  2018년\n",
      "0  강남구  5221    1944.0  195.0  316.0    430    546    765    577    448\n",
      "1  강동구  1879     303.0  387.0  134.0     59    144    194    273    385\n",
      "2  강북구  1265     243.0   88.0  141.0     74    145    254      1    319\n",
      "3  강서구  1617     219.0  155.0  118.0    230    187    190    264    254\n",
      "4  관악구  3985     430.0   56.0  419.0    487    609    619    694    671\n",
      "         기간   구별       세대        계       남자       여자      계.1     남자.1  \\\n",
      "0  2021.2/4   합계  4405638  9795426  4756178  5039248  9565990  4649442   \n",
      "1  2021.2/4  종로구    73525   155106    75009    80097   146029    70985   \n",
      "2  2021.2/4   중구    62897   132259    64526    67733   123016    60019   \n",
      "3  2021.2/4  용산구   111650   240665   116858   123807   226378   108948   \n",
      "4  2021.2/4  성동구   134542   295767   143927   151840   289162   141042   \n",
      "\n",
      "      여자.1     계.2    남자.2    여자.2  세대당인구  65세이상고령자  \n",
      "0  4916548  229436  106736  122700   2.17   1576971  \n",
      "1    75044    9077    4024    5053   1.99     27605  \n",
      "2    62997    9243    4507    4736   1.96     23980  \n",
      "3   117430   14287    7910    6377   2.03     38884  \n",
      "4   148120    6605    2885    3720   2.15     45591  \n"
     ]
    }
   ],
   "source": [
    "# 서로 다른 데이터를 사용할 때 컬럼 이름이 서로 같아야 편리함\n",
    "\n",
    "# 컬럼 이름 수정\n",
    "cctv.rename(columns = {cctv.columns[0] : '구별'}, inplace = True)\n",
    "pop.rename(columns = {pop.columns[1] : '구별'}, inplace = True)\n",
    "\n",
    "# cctv 의 구 이름에는 중간에 공백이 존재하고 pop 의 구 이름에는 공백이 없음\n",
    "# 공백의 유무로 인해 데이터가 달라지므로 공백을 제거해서 통일시켜줘야 함\n",
    "gu = []\n",
    "for x in cctv['구별']:\n",
    "    gu.append(x.replace(' ', ''))\n",
    "cctv['구별'] = gu\n",
    "\n",
    "print(cctv.head())\n",
    "print(pop.head())"
   ]
  },
  {
   "cell_type": "markdown",
   "id": "e2576f25",
   "metadata": {},
   "source": [
    "### 불필요한 열과 행 제거"
   ]
  },
  {
   "cell_type": "code",
   "execution_count": 26,
   "id": "ef16defc",
   "metadata": {},
   "outputs": [
    {
     "name": "stdout",
     "output_type": "stream",
     "text": [
      "          기간    구별       계      남자      여자       여성비율\n",
      "1   2021.2/4   종로구  155106   75009   80097  51.640169\n",
      "2   2021.2/4    중구  132259   64526   67733  51.212394\n",
      "3   2021.2/4   용산구  240665  116858  123807  51.443708\n",
      "4   2021.2/4   성동구  295767  143927  151840  51.337708\n",
      "5   2021.2/4   광진구  355306  170624  184682  51.978295\n",
      "6   2021.2/4  동대문구  352259  172865  179394  50.926733\n",
      "7   2021.2/4   중랑구  394679  194556  200123  50.705257\n",
      "8   2021.2/4   성북구  443206  212849  230357  51.975154\n",
      "9   2021.2/4   강북구  306093  148824  157269  51.379483\n",
      "10  2021.2/4   도봉구  322419  156843  165576  51.354294\n",
      "11  2021.2/4   노원구  520005  250532  269473  51.821232\n",
      "12  2021.2/4   은평구  479409  229241  250168  52.182583\n",
      "13  2021.2/4  서대문구  317699  150608  167091  52.594122\n",
      "14  2021.2/4   마포구  379984  177998  201986  53.156449\n",
      "15  2021.2/4   양천구  454288  222538  231750  51.013894\n",
      "16  2021.2/4   강서구  582995  280822  302173  51.831148\n",
      "17  2021.2/4   구로구  424582  210936  213646  50.319137\n",
      "18  2021.2/4   금천구  244685  124394  120291  49.161575\n",
      "19  2021.2/4  영등포구  402375  199881  202494  50.324697\n",
      "20  2021.2/4   동작구  397231  191657  205574  51.751751\n",
      "21  2021.2/4   관악구  502698  251713  250985  49.927591\n",
      "22  2021.2/4   서초구  422174  202027  220147  52.146035\n",
      "23  2021.2/4   강남구  536107  256449  279658  52.164587\n",
      "24  2021.2/4   송파구  664341  320113  344228  51.814956\n",
      "25  2021.2/4   강동구  469094  230388  238706  50.886603\n"
     ]
    }
   ],
   "source": [
    "# pop 데이터에서 기간, 구별, 계, 남자, 여자 열만 필요함\n",
    "pop = pop[['기간', '구별', '계', '남자', '여자']] # 필요한 데이터만 가져오기\n",
    "\n",
    "# pop의 데이터에서 합계를 나타내는 첫번째 행은 불필요\n",
    "pop.drop([0], inplace = True) # 불필요한 데이터 제거\n",
    "\n",
    "# 새로운 열을 추가 - 없는 열 이름에 데이터를 대입\n",
    "pop['여성비율'] = pop['여자'] / pop['계'] * 100\n",
    "print(pop)"
   ]
  },
  {
   "cell_type": "code",
   "execution_count": null,
   "id": "d7ae0f82",
   "metadata": {},
   "outputs": [],
   "source": []
  },
  {
   "cell_type": "markdown",
   "id": "2888509f",
   "metadata": {},
   "source": [
    "### 데이터 결합"
   ]
  },
  {
   "cell_type": "code",
   "execution_count": 27,
   "id": "b5dc20a6",
   "metadata": {},
   "outputs": [
    {
     "name": "stdout",
     "output_type": "stream",
     "text": [
      "      구별    소계  2011년 이전  2012년  2013년  2014년  2015년  2016년  2017년  2018년  \\\n",
      "0    강남구  5221    1944.0  195.0  316.0    430    546    765    577    448   \n",
      "1    강동구  1879     303.0  387.0  134.0     59    144    194    273    385   \n",
      "2    강북구  1265     243.0   88.0  141.0     74    145    254      1    319   \n",
      "3    강서구  1617     219.0  155.0  118.0    230    187    190    264    254   \n",
      "4    관악구  3985     430.0   56.0  419.0    487    609    619    694    671   \n",
      "5    광진구  1581     470.0   42.0   83.0     87     64     21    468    346   \n",
      "6    구로구  3227     852.0  219.0  349.0    187    268    326    540    486   \n",
      "7    금천구  1634      27.0   17.0  242.0    101    382    136    199    530   \n",
      "8    노원구  1906     481.0  117.0  203.0     80    461    298    110    156   \n",
      "9    도봉구   858     197.0   66.0    8.0    185     59    155    117     71   \n",
      "10  동대문구  2003       NaN    NaN    NaN   1326    111    233    136    197   \n",
      "11   동작구  1780     238.0   93.0   29.0    503    130    254    278    255   \n",
      "12   마포구  1935     585.0  108.0   69.0     70    177    359    372    195   \n",
      "13  서대문구  2121     565.0  233.0  214.0    114    109    277    415    194   \n",
      "14   서초구  2835    1172.0   91.0  228.0    134    215    352    247    396   \n",
      "15   성동구  2679     665.0  109.0  118.0    101    258    201    933    294   \n",
      "16   성북구  3003     779.0   84.0  304.0    241    279    388    285    643   \n",
      "17   송파구  1586     600.0   99.0   88.0     21    166    100    116    396   \n",
      "18   양천구  2775     772.0  161.0  185.0    169    172    349    137    830   \n",
      "19  영등포구  2495     132.0  121.0  206.0    217    366    289    371    793   \n",
      "20   용산구  2063    1279.0  152.0  201.0    107    102     89     60     73   \n",
      "21   은평구  2962    1365.0   83.0   99.0    343    180    296    229    367   \n",
      "22   종로구  1471       8.0    7.0  599.0    132    195    148    281    101   \n",
      "23    중구  1544      25.0  165.0  114.0     80    245    270    317    328   \n",
      "24   중랑구  1068       NaN    NaN    NaN    770    102    121     66      9   \n",
      "\n",
      "          기간       계      남자      여자       여성비율  \n",
      "0   2021.2/4  536107  256449  279658  52.164587  \n",
      "1   2021.2/4  469094  230388  238706  50.886603  \n",
      "2   2021.2/4  306093  148824  157269  51.379483  \n",
      "3   2021.2/4  582995  280822  302173  51.831148  \n",
      "4   2021.2/4  502698  251713  250985  49.927591  \n",
      "5   2021.2/4  355306  170624  184682  51.978295  \n",
      "6   2021.2/4  424582  210936  213646  50.319137  \n",
      "7   2021.2/4  244685  124394  120291  49.161575  \n",
      "8   2021.2/4  520005  250532  269473  51.821232  \n",
      "9   2021.2/4  322419  156843  165576  51.354294  \n",
      "10  2021.2/4  352259  172865  179394  50.926733  \n",
      "11  2021.2/4  397231  191657  205574  51.751751  \n",
      "12  2021.2/4  379984  177998  201986  53.156449  \n",
      "13  2021.2/4  317699  150608  167091  52.594122  \n",
      "14  2021.2/4  422174  202027  220147  52.146035  \n",
      "15  2021.2/4  295767  143927  151840  51.337708  \n",
      "16  2021.2/4  443206  212849  230357  51.975154  \n",
      "17  2021.2/4  664341  320113  344228  51.814956  \n",
      "18  2021.2/4  454288  222538  231750  51.013894  \n",
      "19  2021.2/4  402375  199881  202494  50.324697  \n",
      "20  2021.2/4  240665  116858  123807  51.443708  \n",
      "21  2021.2/4  479409  229241  250168  52.182583  \n",
      "22  2021.2/4  155106   75009   80097  51.640169  \n",
      "23  2021.2/4  132259   64526   67733  51.212394  \n",
      "24  2021.2/4  394679  194556  200123  50.705257  \n"
     ]
    }
   ],
   "source": [
    "DF = pd.merge(cctv, pop, on = '구별')\n",
    "print(DF)"
   ]
  },
  {
   "cell_type": "markdown",
   "id": "bba7dbfa",
   "metadata": {},
   "source": [
    "### 불필요한 열 삭제"
   ]
  },
  {
   "cell_type": "code",
   "execution_count": 28,
   "id": "fa3ffec0",
   "metadata": {},
   "outputs": [
    {
     "name": "stdout",
     "output_type": "stream",
     "text": [
      "      구별    소계  2018년       계      남자      여자       여성비율\n",
      "0    강남구  5221    448  536107  256449  279658  52.164587\n",
      "1    강동구  1879    385  469094  230388  238706  50.886603\n",
      "2    강북구  1265    319  306093  148824  157269  51.379483\n",
      "3    강서구  1617    254  582995  280822  302173  51.831148\n",
      "4    관악구  3985    671  502698  251713  250985  49.927591\n",
      "5    광진구  1581    346  355306  170624  184682  51.978295\n",
      "6    구로구  3227    486  424582  210936  213646  50.319137\n",
      "7    금천구  1634    530  244685  124394  120291  49.161575\n",
      "8    노원구  1906    156  520005  250532  269473  51.821232\n",
      "9    도봉구   858     71  322419  156843  165576  51.354294\n",
      "10  동대문구  2003    197  352259  172865  179394  50.926733\n",
      "11   동작구  1780    255  397231  191657  205574  51.751751\n",
      "12   마포구  1935    195  379984  177998  201986  53.156449\n",
      "13  서대문구  2121    194  317699  150608  167091  52.594122\n",
      "14   서초구  2835    396  422174  202027  220147  52.146035\n",
      "15   성동구  2679    294  295767  143927  151840  51.337708\n",
      "16   성북구  3003    643  443206  212849  230357  51.975154\n",
      "17   송파구  1586    396  664341  320113  344228  51.814956\n",
      "18   양천구  2775    830  454288  222538  231750  51.013894\n",
      "19  영등포구  2495    793  402375  199881  202494  50.324697\n",
      "20   용산구  2063     73  240665  116858  123807  51.443708\n",
      "21   은평구  2962    367  479409  229241  250168  52.182583\n",
      "22   종로구  1471    101  155106   75009   80097  51.640169\n",
      "23    중구  1544    328  132259   64526   67733  51.212394\n",
      "24   중랑구  1068      9  394679  194556  200123  50.705257\n"
     ]
    }
   ],
   "source": [
    "# 2011년 이전, 2012년 ~ 2017년, 기간 열을 삭제\n",
    "# del 을 이용 - pandas 에서는 비추천\n",
    "del DF['2011년 이전']\n",
    "del DF['2012년']\n",
    "del DF['2013년']\n",
    "del DF['2014년']\n",
    "del DF['2015년']\n",
    "del DF['2016년']\n",
    "del DF['2017년']\n",
    "del DF['기간']\n",
    "\n",
    "print(DF)"
   ]
  },
  {
   "cell_type": "markdown",
   "id": "7ea97909",
   "metadata": {},
   "source": [
    "### 인덱스 재설정"
   ]
  },
  {
   "cell_type": "code",
   "execution_count": 29,
   "id": "d810d2e6",
   "metadata": {},
   "outputs": [
    {
     "name": "stdout",
     "output_type": "stream",
     "text": [
      "       소계  2018년       계      남자      여자       여성비율\n",
      "구별                                                 \n",
      "강남구  5221    448  536107  256449  279658  52.164587\n",
      "강동구  1879    385  469094  230388  238706  50.886603\n",
      "강북구  1265    319  306093  148824  157269  51.379483\n",
      "강서구  1617    254  582995  280822  302173  51.831148\n",
      "관악구  3985    671  502698  251713  250985  49.927591\n"
     ]
    }
   ],
   "source": [
    "# primary key 역할을 하는 '구별' 을 인덱스로 설정\n",
    "DF.set_index('구별', inplace = True)\n",
    "print(DF.head())"
   ]
  },
  {
   "cell_type": "code",
   "execution_count": 32,
   "id": "eb63ddcf",
   "metadata": {},
   "outputs": [],
   "source": [
    "# matplotlib 의 기본 폰트가 한글을 지원하지 않기 때문에 폰트 설정이 필요\n",
    "# 운영체제 별로 폰트의 위치가 다르므로 조건문을 이용해서 설정\n",
    "# windows 의 경로를 설정할 때 / 로 디렉토리를 구분해도 \\ 로 변경해서 적용됨\n",
    "\n",
    "if platform.system() == 'Darwin':\n",
    "    rc('font', family = 'AppleGothic')\n",
    "elif platform.system() == 'Windows':\n",
    "    font_name = font_manager.FontProperties(fname = 'c:/Windows/Fonts/malgun.ttf').get_name()\n",
    "    rc('font', family = font_name)"
   ]
  },
  {
   "cell_type": "code",
   "execution_count": 33,
   "id": "efa9114f",
   "metadata": {},
   "outputs": [
    {
     "data": {
      "image/png": "[encoded data removed]",
      "text/plain": [
       "<Figure size 800x800 with 1 Axes>"
      ]
     },
     "metadata": {},
     "output_type": "display_data"
    }
   ],
   "source": [
    "# pandas 기능을 사용해서 그래프 그리기\n",
    "# 막대 그래프는 주로 크기 비교를 위해 사용하므로 정렬을 하고 사용하는게 좋음\n",
    "\n",
    "# kind 는 막대 그래프\n",
    "# grid 는 눈금 여부\n",
    "# figsize 는 그래프 크기\n",
    "DF['소계'].plot(kind = 'barh', grid = True, figsize = (8, 8))\n",
    "# 자동으로 인덱스(구별)를 사용해서 그래프를 그림\n",
    "plt.show()\n"
   ]
  },
  {
   "cell_type": "code",
   "execution_count": 37,
   "id": "c64b374c",
   "metadata": {},
   "outputs": [
    {
     "data": {
      "image/png": "[encoded data removed]",
      "text/plain": [
       "<Figure size 800x800 with 1 Axes>"
      ]
     },
     "metadata": {},
     "output_type": "display_data"
    }
   ],
   "source": [
    "# 데이터를 내림차순으로 정렬해서 그래프를 그림\n",
    "DF['소계'].sort_values().plot(kind = 'barh', grid = True, figsize = (8, 8))\n",
    "plt.show()"
   ]
  },
  {
   "cell_type": "code",
   "execution_count": 38,
   "id": "0df29fe9",
   "metadata": {},
   "outputs": [
    {
     "data": {
      "image/png": "[encoded data removed]",
      "text/plain": [
       "<Figure size 800x800 with 1 Axes>"
      ]
     },
     "metadata": {},
     "output_type": "display_data"
    }
   ],
   "source": [
    "# 새로운 컬럼 추가\n",
    "# 인구수 대비 cctv 개수를 추가\n",
    "# 추가한 컬럼을 가지고 막대 그래프 그리기\n",
    "\n",
    "\n",
    "DF['cctv비율'] = DF['소계'] / DF['계'] * 100\n",
    "DF['cctv비율'].sort_values().plot(kind = 'barh', grid = True, figsize = (8, 8))\n",
    "plt.show()"
   ]
  },
  {
   "cell_type": "code",
   "execution_count": 39,
   "id": "9dd7a086",
   "metadata": {},
   "outputs": [
    {
     "data": {
      "image/png": "[encoded data removed]",
      "text/plain": [
       "<Figure size 800x800 with 1 Axes>"
      ]
     },
     "metadata": {},
     "output_type": "display_data"
    }
   ],
   "source": [
    "plt.figure(figsize = (8, 8))\n",
    "plt.scatter(DF['계'], DF['소계'], s = 50)\n",
    "plt.xlabel('인구수')\n",
    "plt.ylabel('cctv 갯수')\n",
    "plt.grid()\n",
    "\n",
    "plt.show()\n",
    "# 상업지구와 같은 곳에 cctv 가 많으므로 인구와 큰 연관은 없음"
   ]
  },
  {
   "cell_type": "code",
   "execution_count": null,
   "id": "103ab01e",
   "metadata": {},
   "outputs": [],
   "source": []
  },
  {
   "cell_type": "code",
   "execution_count": 41,
   "id": "825e9426",
   "metadata": {},
   "outputs": [
    {
     "data": {
      "image/png": "[encoded data removed]",
      "text/plain": [
       "<Figure size 800x800 with 1 Axes>"
      ]
     },
     "metadata": {},
     "output_type": "display_data"
    }
   ],
   "source": [
    "# 2개 항목의 단항식 구하기\n",
    "# polyfit 을 이용하면 단항식을 구할 수 있음\n",
    "fp1 = np.polyfit(DF['계'], DF['소계'], 1 )\n",
    "f1 = np.poly1d(fp1)\n",
    "#print(f1)\n",
    "\n",
    "# 산점도와 단항식을 같이 출력\n",
    "fx = np.linspace(100000, 700000, 100) # 100 을 간격으로 그리기\n",
    "\n",
    "plt.figure(figsize = (8, 8))\n",
    "plt.scatter(DF['계'], DF['소계'], s = 50)\n",
    "# ls 는 직선의 형태, lw 는 직선 굵기\n",
    "plt.plot(fx, f1(fx), ls = 'dashed', lw = 3, color = 'red')\n",
    "plt.xlabel('인구수')\n",
    "plt.ylabel('cctv 갯수')\n",
    "plt.grid()\n",
    "\n",
    "plt.show()"
   ]
  },
  {
   "cell_type": "code",
   "execution_count": 45,
   "id": "66c09e96",
   "metadata": {},
   "outputs": [
    {
     "data": {
      "image/png": "[encoded data removed]",
      "text/plain": [
       "<Figure size 1000x1000 with 1 Axes>"
      ]
     },
     "metadata": {},
     "output_type": "display_data"
    }
   ],
   "source": [
    "# 오차 값 구하기\n",
    "# 추세선을 통해 예측한 값과 실제 소계 사이의 차이를 구함\n",
    "DF['오차'] = np.abs(DF['소계'] - f1(DF['계']))\n",
    "\n",
    "plt.figure(figsize = (10, 10))\n",
    "# 오차 값을 사용해서 색을 지정\n",
    "# 추세선과 떨어진 정도에 따라 색이 달라짐\n",
    "plt.scatter(DF['계'], DF['소계'], c = DF['오차'], s = 50)\n",
    "plt.plot(fx, f1(fx), ls = 'dashed', lw = 3, color = 'red')\n",
    "\n",
    "# 레이블 나타내기\n",
    "# x 좌표, y 좌표, 출력할 텍스트, 폰트 사이즈 순서\n",
    "for n in range(25): # 전체 25개 데이터\n",
    "    plt.text(DF['계'][n] * 1.02, DF['소계'][n] * 0.98, DF.index[n], fontsize = 14)\n",
    "    \n",
    "\n",
    "plt.xlabel('인구수')\n",
    "plt.ylabel('cctv 갯수')\n",
    "plt.grid()\n",
    "\n",
    "plt.show()"
   ]
  },
  {
   "cell_type": "code",
   "execution_count": null,
   "id": "d53f941f",
   "metadata": {},
   "outputs": [],
   "source": []
  },
  {
   "cell_type": "code",
   "execution_count": 52,
   "id": "aea59cce",
   "metadata": {},
   "outputs": [
    {
     "name": "stdout",
     "output_type": "stream",
     "text": [
      "             prd_1  prd_2  prd_3  prd_4\n",
      "cust_1 2015      0      1      2      3\n",
      "       2016      4      5      6      7\n",
      "cust_2 2015      8      9     10     11\n",
      "       2016     12     13     14     15\n"
     ]
    }
   ],
   "source": [
    "# 멀티 인덱스로 사용할 데이터 생성\n",
    "\n",
    "# list, tuple 을 사용해서 멀티 인덱스 구성\n",
    "# pandas 의 MultiIndex 함수 사용\n",
    "# 인덱스는 큰 구성(cust_1, 2), 작은 구성(2015, 2016) 순서\n",
    "multi_index = pd.MultiIndex.from_tuples([('cust_1', '2015'), ('cust_1', '2016'),\n",
    "                                        ('cust_2', '2015'), ('cust_2', '2016')])\n",
    "\n",
    "# 인덱스에 맞춰서 4x4 데이터 구성\n",
    "# 인덱스는 위의 멀티 인덱스를 가져와서 적용\n",
    "data = pd.DataFrame(np.arange(16).reshape(4, 4),\n",
    "                   index = multi_index, columns = ['prd_1', 'prd_2', 'prd_3', 'prd_4'], \n",
    "                    dtype = 'int')\n",
    "print(data)"
   ]
  },
  {
   "cell_type": "code",
   "execution_count": 49,
   "id": "e709af72",
   "metadata": {},
   "outputs": [
    {
     "name": "stdout",
     "output_type": "stream",
     "text": [
      "cust_1  2015  prd_1     0\n",
      "              prd_2     1\n",
      "              prd_3     2\n",
      "              prd_4     3\n",
      "        2016  prd_1     4\n",
      "              prd_2     5\n",
      "              prd_3     6\n",
      "              prd_4     7\n",
      "cust_2  2015  prd_1     8\n",
      "              prd_2     9\n",
      "              prd_3    10\n",
      "              prd_4    11\n",
      "        2016  prd_1    12\n",
      "              prd_2    13\n",
      "              prd_3    14\n",
      "              prd_4    15\n",
      "dtype: int32\n"
     ]
    }
   ],
   "source": [
    "# 컬럼들이 데이터의 하위 인덱스가 됨\n",
    "data_stacked = data.stack()\n",
    "print(data_stacked)"
   ]
  },
  {
   "cell_type": "code",
   "execution_count": 54,
   "id": "c6150a12",
   "metadata": {},
   "outputs": [
    {
     "name": "stdout",
     "output_type": "stream",
     "text": [
      "cust_1  2015  prd_1     0\n",
      "              prd_2     1\n",
      "              prd_3     2\n",
      "              prd_4     3\n",
      "        2016  prd_1     4\n",
      "              prd_2     5\n",
      "              prd_3     6\n",
      "              prd_4     7\n",
      "cust_2  2015  prd_1     8\n",
      "              prd_2     9\n",
      "              prd_3    10\n",
      "              prd_4    11\n",
      "        2016  prd_1    12\n",
      "              prd_2    13\n",
      "              prd_3    14\n",
      "              prd_4    15\n",
      "dtype: int32\n"
     ]
    }
   ],
   "source": [
    "data_stacked = data.stack(dropna = False)\n",
    "print(data_stacked)"
   ]
  },
  {
   "cell_type": "code",
   "execution_count": 55,
   "id": "39894fe7",
   "metadata": {},
   "outputs": [
    {
     "name": "stdout",
     "output_type": "stream",
     "text": [
      "             prd_1  prd_2  prd_3  prd_4\n",
      "cust_1 2015      0      1      2      3\n",
      "       2016      4      5      6      7\n",
      "cust_2 2015      8      9     10     11\n",
      "       2016     12     13     14     15\n"
     ]
    }
   ],
   "source": [
    "# unstack 함수를 사용해서 다시 인덱스를 컬럼으로\n",
    "# 0 레벨은 가장 큰 인덱스이고 level 의 숫자가 커질수록 작은 범위\n",
    "print(data_stacked.unstack(level = 2))"
   ]
  },
  {
   "cell_type": "code",
   "execution_count": 60,
   "id": "5817bac1",
   "metadata": {},
   "outputs": [
    {
     "name": "stdout",
     "output_type": "stream",
     "text": [
      "PeriodIndex(['1959Q1', '1959Q2', '1959Q3', '1959Q4', '1960Q1', '1960Q2',\n",
      "             '1960Q3', '1960Q4', '1961Q1', '1961Q2',\n",
      "             ...\n",
      "             '2007Q2', '2007Q3', '2007Q4', '2008Q1', '2008Q2', '2008Q3',\n",
      "             '2008Q4', '2009Q1', '2009Q2', '2009Q3'],\n",
      "            dtype='period[Q-DEC]', name='date', length=203)\n"
     ]
    }
   ],
   "source": [
    "# 데이터 읽기\n",
    "\n",
    "data = pd.read_csv('./data/macrodata.csv')\n",
    "\n",
    "\n",
    "# 시계열 인덱스 생성\n",
    "# pandas 의 PeriodIndex 함수 사용\n",
    "# year, quarter 를 합쳐서 인덱스 생성\n",
    "# 적용할 데이터를 나열하고 마지막에 이름(name)을 지정\n",
    "periods = pd.PeriodIndex(year = data['year'], quarter = data['quarter'],\n",
    "                        name = 'date')\n",
    "print(periods) # 1959Q1, 1959Q2, ... , 2009Q3"
   ]
  },
  {
   "cell_type": "code",
   "execution_count": 61,
   "id": "68b6ba33",
   "metadata": {},
   "outputs": [
    {
     "name": "stdout",
     "output_type": "stream",
     "text": [
      "Index(['realgdp', 'infl', 'unemp'], dtype='object', name='item')\n",
      "item   realgdp  infl  unemp\n",
      "0     2710.349  0.00    5.8\n",
      "1     2778.801  2.34    5.1\n",
      "2     2775.488  2.74    5.3\n",
      "3     2785.204  0.27    5.6\n",
      "4     2847.699  2.31    5.2\n"
     ]
    }
   ],
   "source": [
    "columns = pd.Index(['realgdp', 'infl', 'unemp'], name = 'item')\n",
    "#print(columns)\n",
    "\n",
    "data = data.reindex(columns = columns)\n",
    "print(data.head())"
   ]
  },
  {
   "cell_type": "code",
   "execution_count": 62,
   "id": "c1bc247a",
   "metadata": {},
   "outputs": [
    {
     "name": "stdout",
     "output_type": "stream",
     "text": [
      "item                            realgdp  infl  unemp\n",
      "date                                                \n",
      "1959-03-31 23:59:59.999999999  2710.349  0.00    5.8\n",
      "1959-06-30 23:59:59.999999999  2778.801  2.34    5.1\n",
      "1959-09-30 23:59:59.999999999  2775.488  2.74    5.3\n",
      "1959-12-31 23:59:59.999999999  2785.204  0.27    5.6\n",
      "1960-03-31 23:59:59.999999999  2847.699  2.31    5.2\n"
     ]
    }
   ],
   "source": [
    "# 인덱스에 날짜를 설정\n",
    "data.index = periods.to_timestamp('D', 'end') # 쿼터의 마지막 날을 세부 데이터로 설정\n",
    "# start 를 사용하면 첫째날(1월 1일, 4월 1일 ...)\n",
    "print(data.head())"
   ]
  },
  {
   "cell_type": "code",
   "execution_count": 64,
   "id": "fe93eb59",
   "metadata": {},
   "outputs": [
    {
     "name": "stdout",
     "output_type": "stream",
     "text": [
      "                             date     item      value\n",
      "0   1959-03-31 23:59:59.999999999  realgdp   2710.349\n",
      "1   1959-03-31 23:59:59.999999999     infl      0.000\n",
      "2   1959-03-31 23:59:59.999999999    unemp      5.800\n",
      "3   1959-06-30 23:59:59.999999999  realgdp   2778.801\n",
      "4   1959-06-30 23:59:59.999999999     infl      2.340\n",
      "..                            ...      ...        ...\n",
      "604 2009-06-30 23:59:59.999999999     infl      3.370\n",
      "605 2009-06-30 23:59:59.999999999    unemp      9.200\n",
      "606 2009-09-30 23:59:59.999999999  realgdp  12990.341\n",
      "607 2009-09-30 23:59:59.999999999     infl      3.560\n",
      "608 2009-09-30 23:59:59.999999999    unemp      9.600\n",
      "\n",
      "[609 rows x 3 columns]\n"
     ]
    }
   ],
   "source": [
    "# 날짜를 데이터로 사용\n",
    "# date 라는 이름의 컬럼이 됨\n",
    "idata = data.stack().reset_index().rename(columns = {0:'value'})\n",
    "print(idata)"
   ]
  },
  {
   "cell_type": "code",
   "execution_count": 65,
   "id": "b4200779",
   "metadata": {},
   "outputs": [
    {
     "name": "stdout",
     "output_type": "stream",
     "text": [
      "item                           infl   realgdp  unemp\n",
      "date                                                \n",
      "1959-03-31 23:59:59.999999999  0.00  2710.349    5.8\n",
      "1959-06-30 23:59:59.999999999  2.34  2778.801    5.1\n",
      "1959-09-30 23:59:59.999999999  2.74  2775.488    5.3\n",
      "1959-12-31 23:59:59.999999999  0.27  2785.204    5.6\n",
      "1960-03-31 23:59:59.999999999  2.31  2847.699    5.2\n"
     ]
    },
    {
     "name": "stderr",
     "output_type": "stream",
     "text": [
      "C:\\Users\\USER\\AppData\\Local\\Temp\\ipykernel_9240\\2766482959.py:2: FutureWarning: In a future version of pandas all arguments of DataFrame.pivot will be keyword-only.\n",
      "  pivoted = idata.pivot('date', 'item', 'value')\n"
     ]
    }
   ],
   "source": [
    "# 피봇 테이블을 적용해서 이전 형식으로 되돌림\n",
    "pivoted = idata.pivot('date', 'item', 'value')\n",
    "print(pivoted.head())"
   ]
  },
  {
   "cell_type": "code",
   "execution_count": 68,
   "id": "a500e72b",
   "metadata": {},
   "outputs": [
    {
     "name": "stdout",
     "output_type": "stream",
     "text": [
      "    cust_id prod_id   variable  value\n",
      "0         1       a    pch_cnt      1\n",
      "1         2       b    pch_cnt      2\n",
      "2         3       c    pch_cnt      3\n",
      "3         4       d    pch_cnt      4\n",
      "4         1       a  pch_price    100\n",
      "5         2       b  pch_price    200\n",
      "6         3       c  pch_price    300\n",
      "7         4       d  pch_price    400\n",
      "8         1       a    pch_amt     15\n",
      "9         2       b    pch_amt     25\n",
      "10        3       c    pch_amt     35\n",
      "11        4       d    pch_amt     45\n"
     ]
    }
   ],
   "source": [
    "# melt 함수 사용\n",
    "\n",
    "data = pd.DataFrame({'cust_id' : [1, 2, 3, 4], 'prod_id' : ['a', 'b', 'c', 'd'],\n",
    "                    'pch_cnt' : [1, 2, 3, 4], 'pch_price' : [100, 200, 300, 400],\n",
    "                    'pch_amt' : [15, 25, 35, 45]})\n",
    "#print(data)\n",
    "\n",
    "# melt 함수 적용\n",
    "# 남겨둘 컬럼만 id_vars 에 작성\n",
    "# 나머지 세 컬럼에서 컬럼 이름은 variable, 컬럼의 값은 value 에 들어감\n",
    "result = pd.melt(data, id_vars = ['cust_id', 'prod_id'])\n",
    "print(result)"
   ]
  },
  {
   "cell_type": "code",
   "execution_count": 74,
   "id": "1c057632",
   "metadata": {},
   "outputs": [
    {
     "name": "stdout",
     "output_type": "stream",
     "text": [
      "가로    a     c     d\n",
      "세로                 \n",
      "a   0.5  0.00  0.00\n",
      "b   0.0  0.00  0.25\n",
      "c   0.0  0.25  0.00\n",
      "\n",
      "pch1  a  b  c\n",
      "pch2  a  d  c\n",
      "id           \n",
      "ad1   1  0  0\n",
      "ad2   0  0  1\n",
      "id1   1  0  0\n",
      "id2   0  1  0\n"
     ]
    }
   ],
   "source": [
    "# crosstab 을 사용해서 교차 분석\n",
    "\n",
    "data = pd.DataFrame({'id' : ['id1', 'id2', 'ad2', 'ad1'], \n",
    "                     'pch1' : ['a', 'b', 'c', 'a'], 'pch2' : ['a', 'd', 'c', 'a']})\n",
    "\n",
    "# pch1 과 pch2 의 빈도 분석\n",
    "print(pd.crosstab(data['pch1'], data['pch2'],\n",
    "                 rownames = ['세로'], colnames = ['가로'], \n",
    "                  normalize = True)) # pch1, pch2 에서 빈도 분석\n",
    "# normalize 를 사용하면 빈도 대신 비율로 나타냄\n",
    "\n",
    "print()\n",
    "\n",
    "print(pd.crosstab(data.id, [data['pch1'], data['pch2']])) # id 를 사용해서 한 번 더 묶음 "
   ]
  },
  {
   "cell_type": "code",
   "execution_count": null,
   "id": "cf569b70",
   "metadata": {},
   "outputs": [],
   "source": []
  },
  {
   "cell_type": "code",
   "execution_count": 75,
   "id": "cff4ed9c",
   "metadata": {},
   "outputs": [
    {
     "name": "stdout",
     "output_type": "stream",
     "text": [
      "    mpg  cylinders  displacement horsepower  weight  acceleration  model year  \\\n",
      "0  18.0          8         307.0      130.0  3504.0          12.0          70   \n",
      "1  15.0          8         350.0      165.0  3693.0          11.5          70   \n",
      "2  18.0          8         318.0      150.0  3436.0          11.0          70   \n",
      "3  16.0          8         304.0      150.0  3433.0          12.0          70   \n",
      "4  17.0          8         302.0      140.0  3449.0          10.5          70   \n",
      "\n",
      "   origin                       name  \n",
      "0       1  chevrolet chevelle malibu  \n",
      "1       1          buick skylark 320  \n",
      "2       1         plymouth satellite  \n",
      "3       1              amc rebel sst  \n",
      "4       1                ford torino  \n"
     ]
    }
   ],
   "source": [
    "# 데이터 읽어오기\n",
    "\n",
    "# 첫번째 행이 컬럼 이름이 아닌 경우이므로 직접 컬럼 이름을 설정\n",
    "DF = pd.read_csv('./data/auto-mpg.csv', header = None)\n",
    "DF.columns = ['mpg', 'cylinders', 'displacement', 'horsepower', 'weight',\n",
    "             'acceleration', 'model year', 'origin', 'name']\n",
    "print(DF.head())"
   ]
  },
  {
   "cell_type": "code",
   "execution_count": 76,
   "id": "429289be",
   "metadata": {},
   "outputs": [
    {
     "name": "stdout",
     "output_type": "stream",
     "text": [
      "<class 'pandas.core.frame.DataFrame'>\n",
      "RangeIndex: 398 entries, 0 to 397\n",
      "Data columns (total 9 columns):\n",
      " #   Column        Non-Null Count  Dtype  \n",
      "---  ------        --------------  -----  \n",
      " 0   mpg           398 non-null    float64\n",
      " 1   cylinders     398 non-null    int64  \n",
      " 2   displacement  398 non-null    float64\n",
      " 3   horsepower    398 non-null    object \n",
      " 4   weight        398 non-null    float64\n",
      " 5   acceleration  398 non-null    float64\n",
      " 6   model year    398 non-null    int64  \n",
      " 7   origin        398 non-null    int64  \n",
      " 8   name          398 non-null    object \n",
      "dtypes: float64(4), int64(3), object(2)\n",
      "memory usage: 28.1+ KB\n"
     ]
    }
   ],
   "source": [
    "# 데이터의 자료형 확인은 dtypes 속성을 사용하거나 info() 함수를 호출\n",
    "DF.info()"
   ]
  },
  {
   "cell_type": "code",
   "execution_count": 86,
   "id": "282df1fb",
   "metadata": {},
   "outputs": [
    {
     "name": "stdout",
     "output_type": "stream",
     "text": [
      "19      46.0\n",
      "102     46.0\n",
      "326     48.0\n",
      "325     48.0\n",
      "244     48.0\n",
      "       ...  \n",
      "6      220.0\n",
      "8      225.0\n",
      "95     225.0\n",
      "13     225.0\n",
      "116    230.0\n",
      "Name: horsepower, Length: 392, dtype: float64\n"
     ]
    }
   ],
   "source": [
    "# horsepower 는 마력인데 마력은 숫자 데이터임\n",
    "# 현재 자료형을 보면 숫자가 아니라 object 로 되어 있음\n",
    "# 자료형을 숫자 데이터로 변환해야 함\n",
    "\n",
    "# horsepower 컬럼의 자료형을 float으로 변경해서 대입하려고 하지만 에러 \n",
    "# ? 를 바꿀 수 없음\n",
    "#DF['horsepower'] = DF['horsepower'].astype('float')\n",
    "\n",
    "# 중복된 데이터 찾기 - ? 라는 값이 존재\n",
    "#print(DF['horsepower'].unique()) \n",
    "#print(DF['horsepower'].sort_values()) # 정렬을 통해 빠르게 찾기 가능\n",
    "\n",
    "# ? 라는 값을 가진 데이터를 어떻게 처리할지 결정 - 특정 값으로 대체할지, 아예 지울지\n",
    "# 데이터를 지워도 분석 결과에 영향을 미치지 않을 정도면 지워도 되고\n",
    "# 영향이 갈 정도라면 대체할 값을 입력 - 평균, 중간값, 앞이나 뒤의 데이터\n",
    "\n",
    "# ? 값을 None 으로 설정하고 None 인 데이터를 제거\n",
    "DF['horsepower'].replace('?', np.nan, inplace = True)\n",
    "DF.dropna(subset = ['horsepower'], axis = 0, inplace = True)\n",
    "DF['horsepower'] = DF['horsepower'].astype('float') # 이제 에러 없이 변환 가능\n",
    "#print(DF['horsepower'].sort_values()) # 제대로 변환 되었는지 확인"
   ]
  },
  {
   "cell_type": "code",
   "execution_count": null,
   "id": "deaa7779",
   "metadata": {},
   "outputs": [],
   "source": [
    "# origin 이라는 열은 1, 2, 3 이라는 값만 가지고 있음\n",
    "# 이 값은 실제로는 미국, 유럽, 일본 을 의미하는 숫자\n",
    "# 분석을 할 때는 미국, 유럽, 일본 으로 보여지는게 더 나을 수 있음\n",
    "# 이런 경우 새로운 컬럼을 추가해서 보여지도록 할 수 있고 컬럼의 값을 변경할 수도 있음\n",
    "# 범주형으로 변경해두는 것이 속도를 높이는데 도움이 됨"
   ]
  },
  {
   "cell_type": "code",
   "execution_count": 88,
   "id": "699ddcf0",
   "metadata": {},
   "outputs": [
    {
     "name": "stdout",
     "output_type": "stream",
     "text": [
      "    mpg  cylinders  displacement  horsepower  weight  acceleration  \\\n",
      "0  18.0          8         307.0       130.0  3504.0          12.0   \n",
      "1  15.0          8         350.0       165.0  3693.0          11.5   \n",
      "2  18.0          8         318.0       150.0  3436.0          11.0   \n",
      "3  16.0          8         304.0       150.0  3433.0          12.0   \n",
      "4  17.0          8         302.0       140.0  3449.0          10.5   \n",
      "\n",
      "   model year origin                       name  \n",
      "0          70     미국  chevrolet chevelle malibu  \n",
      "1          70     미국          buick skylark 320  \n",
      "2          70     미국         plymouth satellite  \n",
      "3          70     미국              amc rebel sst  \n",
      "4          70     미국                ford torino  \n"
     ]
    }
   ],
   "source": [
    "# origin 의 컬럼 값을 변경\n",
    "DF['origin'].replace({1 : '미국', 2 : '유럽', 3 : '일본'}, inplace = True)\n",
    "DF['origin'] = DF['origin'].astype('category') # 범주형으로 자료형 변환\n",
    "#DF.info()\n",
    "print(DF.head())"
   ]
  },
  {
   "cell_type": "code",
   "execution_count": 89,
   "id": "d190fe7c",
   "metadata": {},
   "outputs": [
    {
     "name": "stderr",
     "output_type": "stream",
     "text": [
      "C:\\Users\\USER\\AppData\\Local\\Temp\\ipykernel_9240\\2191442155.py:1: FutureWarning: The default value of numeric_only in DataFrame.corr is deprecated. In a future version, it will default to False. Select only valid columns or specify the value of numeric_only to silence this warning.\n",
      "  DF.corr()\n"
     ]
    },
    {
     "data": {
      "text/html": [
       "<div>\n",
       "<style scoped>\n",
       "    .dataframe tbody tr th:only-of-type {\n",
       "        vertical-align: middle;\n",
       "    }\n",
       "\n",
       "    .dataframe tbody tr th {\n",
       "        vertical-align: top;\n",
       "    }\n",
       "\n",
       "    .dataframe thead th {\n",
       "        text-align: right;\n",
       "    }\n",
       "</style>\n",
       "<table border=\"1\" class=\"dataframe\">\n",
       "  <thead>\n",
       "    <tr style=\"text-align: right;\">\n",
       "      <th></th>\n",
       "      <th>mpg</th>\n",
       "      <th>cylinders</th>\n",
       "      <th>displacement</th>\n",
       "      <th>horsepower</th>\n",
       "      <th>weight</th>\n",
       "      <th>acceleration</th>\n",
       "      <th>model year</th>\n",
       "    </tr>\n",
       "  </thead>\n",
       "  <tbody>\n",
       "    <tr>\n",
       "      <th>mpg</th>\n",
       "      <td>1.000000</td>\n",
       "      <td>-0.777618</td>\n",
       "      <td>-0.805127</td>\n",
       "      <td>-0.778427</td>\n",
       "      <td>-0.832244</td>\n",
       "      <td>0.423329</td>\n",
       "      <td>0.580541</td>\n",
       "    </tr>\n",
       "    <tr>\n",
       "      <th>cylinders</th>\n",
       "      <td>-0.777618</td>\n",
       "      <td>1.000000</td>\n",
       "      <td>0.950823</td>\n",
       "      <td>0.842983</td>\n",
       "      <td>0.897527</td>\n",
       "      <td>-0.504683</td>\n",
       "      <td>-0.345647</td>\n",
       "    </tr>\n",
       "    <tr>\n",
       "      <th>displacement</th>\n",
       "      <td>-0.805127</td>\n",
       "      <td>0.950823</td>\n",
       "      <td>1.000000</td>\n",
       "      <td>0.897257</td>\n",
       "      <td>0.932994</td>\n",
       "      <td>-0.543800</td>\n",
       "      <td>-0.369855</td>\n",
       "    </tr>\n",
       "    <tr>\n",
       "      <th>horsepower</th>\n",
       "      <td>-0.778427</td>\n",
       "      <td>0.842983</td>\n",
       "      <td>0.897257</td>\n",
       "      <td>1.000000</td>\n",
       "      <td>0.864538</td>\n",
       "      <td>-0.689196</td>\n",
       "      <td>-0.416361</td>\n",
       "    </tr>\n",
       "    <tr>\n",
       "      <th>weight</th>\n",
       "      <td>-0.832244</td>\n",
       "      <td>0.897527</td>\n",
       "      <td>0.932994</td>\n",
       "      <td>0.864538</td>\n",
       "      <td>1.000000</td>\n",
       "      <td>-0.416839</td>\n",
       "      <td>-0.309120</td>\n",
       "    </tr>\n",
       "    <tr>\n",
       "      <th>acceleration</th>\n",
       "      <td>0.423329</td>\n",
       "      <td>-0.504683</td>\n",
       "      <td>-0.543800</td>\n",
       "      <td>-0.689196</td>\n",
       "      <td>-0.416839</td>\n",
       "      <td>1.000000</td>\n",
       "      <td>0.290316</td>\n",
       "    </tr>\n",
       "    <tr>\n",
       "      <th>model year</th>\n",
       "      <td>0.580541</td>\n",
       "      <td>-0.345647</td>\n",
       "      <td>-0.369855</td>\n",
       "      <td>-0.416361</td>\n",
       "      <td>-0.309120</td>\n",
       "      <td>0.290316</td>\n",
       "      <td>1.000000</td>\n",
       "    </tr>\n",
       "  </tbody>\n",
       "</table>\n",
       "</div>"
      ],
      "text/plain": [
       "                   mpg  cylinders  displacement  horsepower    weight  \\\n",
       "mpg           1.000000  -0.777618     -0.805127   -0.778427 -0.832244   \n",
       "cylinders    -0.777618   1.000000      0.950823    0.842983  0.897527   \n",
       "displacement -0.805127   0.950823      1.000000    0.897257  0.932994   \n",
       "horsepower   -0.778427   0.842983      0.897257    1.000000  0.864538   \n",
       "weight       -0.832244   0.897527      0.932994    0.864538  1.000000   \n",
       "acceleration  0.423329  -0.504683     -0.543800   -0.689196 -0.416839   \n",
       "model year    0.580541  -0.345647     -0.369855   -0.416361 -0.309120   \n",
       "\n",
       "              acceleration  model year  \n",
       "mpg               0.423329    0.580541  \n",
       "cylinders        -0.504683   -0.345647  \n",
       "displacement     -0.543800   -0.369855  \n",
       "horsepower       -0.689196   -0.416361  \n",
       "weight           -0.416839   -0.309120  \n",
       "acceleration      1.000000    0.290316  \n",
       "model year        0.290316    1.000000  "
      ]
     },
     "execution_count": 89,
     "metadata": {},
     "output_type": "execute_result"
    }
   ],
   "source": [
    "# category 타입으로 자료형이 변환된 origin 은 \n",
    "# 아래 계산식에 포함되지 않음\n",
    "DF.corr()"
   ]
  },
  {
   "cell_type": "code",
   "execution_count": null,
   "id": "17c39614",
   "metadata": {},
   "outputs": [],
   "source": []
  },
  {
   "cell_type": "code",
   "execution_count": null,
   "id": "abcb6a12",
   "metadata": {},
   "outputs": [],
   "source": []
  }
 ],
 "metadata": {
  "kernelspec": {
   "display_name": "Python 3 (ipykernel)",
   "language": "python",
   "name": "python3"
  },
  "language_info": {
   "codemirror_mode": {
    "name": "ipython",
    "version": 3
   },
   "file_extension": ".py",
   "mimetype": "text/x-python",
   "name": "python",
   "nbconvert_exporter": "python",
   "pygments_lexer": "ipython3",
   "version": "3.10.9"
  }
 },
 "nbformat": 4,
 "nbformat_minor": 5
}
